{
 "cells": [
  {
   "cell_type": "code",
   "execution_count": 1,
   "id": "8f471d0f",
   "metadata": {},
   "outputs": [],
   "source": [
    "import sys\n",
    "import numpy as np\n",
    "import pandas as pd\n",
    "import scipy as sc\n",
    "from scipy.stats import mannwhitneyu, zscore, ttest_ind, ttest_ind_from_stats, \\\n",
    "                        f_oneway, wilcoxon, kruskal, friedmanchisquare\n",
    "from statsmodels.stats import weightstats as stests\n",
    "import matplotlib.pyplot as plt\n",
    "\n",
    "sys.path.append(\"../\")\n",
    "\n",
    "from src.ab.helpers import min_sample_size_avg\n",
    "\n",
    "%matplotlib inline"
   ]
  },
  {
   "cell_type": "code",
   "execution_count": 98,
   "id": "9c90b54c",
   "metadata": {},
   "outputs": [],
   "source": [
    "class NormalGenerator():\n",
    "    def __init__(self,\n",
    "                 mean,\n",
    "                 std):\n",
    "        self.mean = mean\n",
    "        self.std = std\n",
    "    def get_sample(self,\n",
    "                   size):\n",
    "        return np.random.normal(loc=self.mean, \n",
    "                                   scale=self.std, \n",
    "                                   size=size)\n",
    "    \n",
    "def calc_stats(mu,\n",
    "               sd,\n",
    "               start,\n",
    "               step,\n",
    "               num_steps,\n",
    "               n_experiments):\n",
    "    sizes=np.arange(0, num_steps)*step+start\n",
    "\n",
    "    for size in sizes:\n",
    "        generator = NormalGenerator(mean=mu,\n",
    "                                    std=sd)\n",
    "        #generate samples\n",
    "        values = np.array([generator.get_sample(size=size) for i in range(n_experiments)])\n",
    "        stats = np.array([np.array([i.mean(), i.std(), i.std(ddof=1)]) for i in values])\n",
    "        res = stats[:, 0].mean(), stats[:, 1].mean(), stats[:, 2].mean(), 1-stats[:, 1].mean()/sd, 1-stats[:, 2].mean()/sd\n",
    "        result_errors.append(res)\n",
    "\n",
    "    result_errors_df = pd.DataFrame(result_errors, columns=['sample_mean',\n",
    "                                                             'sample_sd',\n",
    "                                                             'sample_sd_corrected',\n",
    "                                                             'sample_sd_error',\n",
    "                                                             'sample_sd_corrected_error'])\n",
    "    result_errors_df['sample_size'] = sizes\n",
    "    #calc MAPE\n",
    "    MAPE_sd = np.mean(np.abs((sd - result_errors_df['sample_sd']) / sd)) * 100\n",
    "    MAPE_sd_corrected = np.mean(np.abs((sd - result_errors_df['sample_sd_corrected']) / sd)) * 100\n",
    "    print(\"MAPE without correction: {}, MAPE with correction: {}\".format(MAPE_sd, MAPE_sd_corrected))\n",
    "    return result_errors_df"
   ]
  },
  {
   "cell_type": "markdown",
   "id": "e77de920",
   "metadata": {},
   "source": [
    "### Small samples (<100)"
   ]
  },
  {
   "cell_type": "code",
   "execution_count": 99,
   "id": "c9710d52",
   "metadata": {
    "scrolled": true
   },
   "outputs": [
    {
     "name": "stdout",
     "output_type": "stream",
     "text": [
      "MAPE without correction: 1.978784929330283, MAPE with correction: 0.5109764183445776\n",
      "Wall time: 457 ms\n"
     ]
    }
   ],
   "source": [
    "%%time\n",
    "mu, sd = 50, 100\n",
    "n_experiments=1000\n",
    "result_errors = list()\n",
    "start = 10\n",
    "step = 10\n",
    "num = 10\n",
    "\n",
    "result_errors_df_10_100 = calc_stats(mu=mu,\n",
    "                                   sd=sd,\n",
    "                                   start=start,\n",
    "                                   step=step,\n",
    "                                   num_steps=num,\n",
    "                                   n_experiments=n_experiments)"
   ]
  },
  {
   "cell_type": "markdown",
   "id": "fd38c986",
   "metadata": {},
   "source": [
    "### Average (>=100 and <1000)"
   ]
  },
  {
   "cell_type": "code",
   "execution_count": 109,
   "id": "4b125f9f",
   "metadata": {},
   "outputs": [
    {
     "name": "stdout",
     "output_type": "stream",
     "text": [
      "MAPE without correction: 0.17784566716660855, MAPE with correction: 0.07957115554670618\n",
      "Wall time: 1.11 s\n"
     ]
    }
   ],
   "source": [
    "%%time\n",
    "n_experiments=1000\n",
    "result_errors = list()\n",
    "start = 150\n",
    "step = 50\n",
    "num = 18\n",
    "\n",
    "result_errors_df_150_1000 = calc_stats(mu=mu,\n",
    "                                   sd=sd,\n",
    "                                   start=start,\n",
    "                                   step=step,\n",
    "                                   num_steps=num,\n",
    "                                   n_experiments=n_experiments)"
   ]
  },
  {
   "cell_type": "markdown",
   "id": "66919a52",
   "metadata": {},
   "source": [
    "### Large samples (>1000)"
   ]
  },
  {
   "cell_type": "code",
   "execution_count": 114,
   "id": "f64086d4",
   "metadata": {},
   "outputs": [
    {
     "name": "stdout",
     "output_type": "stream",
     "text": [
      "MAPE without correction: 0.04190362729917609, MAPE with correction: 0.0350725741879156\n",
      "Wall time: 5.45 s\n"
     ]
    }
   ],
   "source": [
    "%%time\n",
    "n_experiments=1000\n",
    "result_errors = list()\n",
    "start = 1050\n",
    "step = 100\n",
    "num = 40\n",
    "\n",
    "result_errors_df_1050_5000 = calc_stats(mu=mu,\n",
    "                                   sd=sd,\n",
    "                                   start=start,\n",
    "                                   step=step,\n",
    "                                   num_steps=num,\n",
    "                                   n_experiments=n_experiments)"
   ]
  },
  {
   "cell_type": "markdown",
   "id": "50b1f0a6",
   "metadata": {},
   "source": [
    "### Combine results"
   ]
  },
  {
   "cell_type": "code",
   "execution_count": 115,
   "id": "f9e65cea",
   "metadata": {},
   "outputs": [],
   "source": [
    "result_errors_df = pd.concat([result_errors_df_10_100,\n",
    "                              result_errors_df_150_1000,\n",
    "                              result_errors_df_1050_5000])"
   ]
  },
  {
   "cell_type": "markdown",
   "id": "ea00c87c",
   "metadata": {},
   "source": [
    "### Plot results"
   ]
  },
  {
   "cell_type": "code",
   "execution_count": 116,
   "id": "5ce775ca",
   "metadata": {},
   "outputs": [
    {
     "data": {
      "image/png": "[encoded data removed]",
      "text/plain": [
       "<Figure size 960x480 with 1 Axes>"
      ]
     },
     "metadata": {
      "needs_background": "light"
     },
     "output_type": "display_data"
    }
   ],
   "source": [
    "plt.figure(figsize=(12, 6), dpi=80)\n",
    "plt.scatter(x=result_errors_df['sample_size'],\n",
    "            y=result_errors_df['sample_sd'],\n",
    "            label = \"sample_sd\")\n",
    "plt.scatter(x=result_errors_df['sample_size'],\n",
    "            y=result_errors_df['sample_sd_corrected'],\n",
    "            label = \"sample_sd_corrected\")\n",
    "\n",
    "plt.legend()\n",
    "plt.title('SD')\n",
    "plt.xlabel(\"Sample size\")\n",
    "plt.ylabel('SD')\n",
    "plt.grid()\n",
    "plt.xticks(np.arange(0, result_errors_df['sample_size'].max(), step=500))\n",
    "plt.ylim(90, 105)\n",
    "plt.show()"
   ]
  },
  {
   "cell_type": "code",
   "execution_count": 117,
   "id": "563a9359",
   "metadata": {},
   "outputs": [
    {
     "data": {
      "image/png": "[encoded data removed]",
      "text/plain": [
       "<Figure size 960x480 with 1 Axes>"
      ]
     },
     "metadata": {
      "needs_background": "light"
     },
     "output_type": "display_data"
    }
   ],
   "source": [
    "plt.figure(figsize=(12, 6), dpi=80)\n",
    "plt.scatter(x=result_errors_df['sample_size'],\n",
    "            y=result_errors_df['sample_sd_error'],\n",
    "            label = \"sample_sd_error\")\n",
    "plt.scatter(x=result_errors_df['sample_size'],\n",
    "            y=result_errors_df['sample_sd_corrected_error'],\n",
    "            label = \"sample_sd_corrected_error\")\n",
    "\n",
    "plt.legend()\n",
    "plt.title('SD_error')\n",
    "plt.xlabel(\"Sample size\")\n",
    "plt.ylabel('SD_error')\n",
    "plt.grid()\n",
    "plt.xticks(np.arange(0, result_errors_df['sample_size'].max(), step=500))\n",
    "plt.ylim(-0.05, 0.09)\n",
    "plt.show()"
   ]
  },
  {
   "cell_type": "markdown",
   "id": "d5eaa147",
   "metadata": {},
   "source": [
    "### Sample mean"
   ]
  },
  {
   "cell_type": "code",
   "execution_count": 121,
   "id": "a2e25918",
   "metadata": {},
   "outputs": [
    {
     "data": {
      "text/plain": [
       "(50.02618694313362, 50.01922213663144)"
      ]
     },
     "execution_count": 121,
     "metadata": {},
     "output_type": "execute_result"
    }
   ],
   "source": [
    "result_errors_df[result_errors_df['sample_size']<100]['sample_mean'].mean(), \\\n",
    "result_errors_df[result_errors_df['sample_size']>100]['sample_mean'].mean()"
   ]
  },
  {
   "cell_type": "markdown",
   "id": "7bd35a9c",
   "metadata": {},
   "source": [
    "### Выводы\n",
    "\n",
    "Для относительно небольших выборок (до 100 наблюдений)\n",
    "\n",
    "1. Среднее выборочных средних сходится к среднему генеральной совокупности\n",
    "2. Среднее SD без поправки (домножения на n/(n-1)) дает смещенную оценку стандартного отклонения \n",
    "3. Домножение на n/(n-1) дает более точную оценку стандартного отклонения\n",
    "\n",
    "Для выборок от 100 до 1000 ситуация похожая. \n",
    "\n",
    "В то же время, для больших выборок (более 10000 наблюдений) поправка уже не влияет так заметно на ошибку, хотя все равно ошибка меньше (в примере - MAPE)"
   ]
  },
  {
   "cell_type": "code",
   "execution_count": null,
   "id": "5ea0c49d",
   "metadata": {},
   "outputs": [],
   "source": []
  }
 ],
 "metadata": {
  "kernelspec": {
   "display_name": "Python 3",
   "language": "python",
   "name": "python3"
  },
  "language_info": {
   "codemirror_mode": {
    "name": "ipython",
    "version": 3
   },
   "file_extension": ".py",
   "mimetype": "text/x-python",
   "name": "python",
   "nbconvert_exporter": "python",
   "pygments_lexer": "ipython3",
   "version": "3.8.8"
  }
 },
 "nbformat": 4,
 "nbformat_minor": 5
}
