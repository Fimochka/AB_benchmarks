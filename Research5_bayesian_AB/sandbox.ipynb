{
 "cells": [
  {
   "cell_type": "code",
   "execution_count": 9,
   "id": "a735f03a",
   "metadata": {},
   "outputs": [],
   "source": [
    "import sys\n",
    "import numpy as np\n",
    "import pandas as pd\n",
    "import scipy as sc\n",
    "from scipy.stats import mannwhitneyu, zscore, ttest_ind, ttest_ind_from_stats, \\\n",
    "                        f_oneway, wilcoxon, kruskal, friedmanchisquare\n",
    "from statsmodels.stats import weightstats as stests\n",
    "import matplotlib.pyplot as plt\n",
    "\n",
    "sys.path.append(\"../\")\n",
    "\n",
    "from src.ab.helpers import min_sample_size_avg\n",
    "from src.ab.data import BernoulliDataGenerator\n",
    "from bayesian_testing.experiments import BinaryDataTest, DeltaLognormalDataTest\n",
    "\n",
    "%matplotlib inline\n",
    "\n",
    "MDE = 0.02\n",
    "beta = 0.2\n",
    "alpha = 0.07"
   ]
  },
  {
   "cell_type": "code",
   "execution_count": 5,
   "id": "b3131310",
   "metadata": {},
   "outputs": [],
   "source": [
    "class LogNormalGenerator():\n",
    "    def __init__(self,\n",
    "                 mean,\n",
    "                 std):\n",
    "        self.mean = mean\n",
    "        self.std = std\n",
    "    def get_sample(self,\n",
    "                   size):\n",
    "        return np.random.lognormal(mean=self.mean, \n",
    "                                   sigma=self.std, \n",
    "                                   size=size)*1000"
   ]
  },
  {
   "cell_type": "code",
   "execution_count": 70,
   "id": "8cdfcbf3",
   "metadata": {},
   "outputs": [],
   "source": [
    "mu, sd = 0.6, 0.6\n",
    "SIZE = 3000\n",
    "generator_a = LogNormalGenerator(mean=mu,\n",
    "                                 std=sd)\n",
    "generator_b = LogNormalGenerator(mean=mu,\n",
    "                                 std=sd*1.05)\n",
    "ctr_gen = BernoulliDataGenerator(n_groups=2,\n",
    "                                 ctrs=[0.2, 0.2])"
   ]
  },
  {
   "cell_type": "code",
   "execution_count": 71,
   "id": "345d3c8f",
   "metadata": {},
   "outputs": [
    {
     "data": {
      "text/html": [
       "<div>\n",
       "<style scoped>\n",
       "    .dataframe tbody tr th:only-of-type {\n",
       "        vertical-align: middle;\n",
       "    }\n",
       "\n",
       "    .dataframe tbody tr th {\n",
       "        vertical-align: top;\n",
       "    }\n",
       "\n",
       "    .dataframe thead th {\n",
       "        text-align: right;\n",
       "    }\n",
       "</style>\n",
       "<table border=\"1\" class=\"dataframe\">\n",
       "  <thead>\n",
       "    <tr style=\"text-align: right;\">\n",
       "      <th></th>\n",
       "      <th>count</th>\n",
       "      <th>mean</th>\n",
       "      <th>std</th>\n",
       "      <th>min</th>\n",
       "      <th>25%</th>\n",
       "      <th>50%</th>\n",
       "      <th>75%</th>\n",
       "      <th>max</th>\n",
       "    </tr>\n",
       "    <tr>\n",
       "      <th>TARGET_GROUP</th>\n",
       "      <th></th>\n",
       "      <th></th>\n",
       "      <th></th>\n",
       "      <th></th>\n",
       "      <th></th>\n",
       "      <th></th>\n",
       "      <th></th>\n",
       "      <th></th>\n",
       "    </tr>\n",
       "  </thead>\n",
       "  <tbody>\n",
       "    <tr>\n",
       "      <th>A</th>\n",
       "      <td>3000.0</td>\n",
       "      <td>2211.232370</td>\n",
       "      <td>1470.728728</td>\n",
       "      <td>214.662380</td>\n",
       "      <td>1229.930364</td>\n",
       "      <td>1843.946044</td>\n",
       "      <td>2777.419598</td>\n",
       "      <td>15821.637450</td>\n",
       "    </tr>\n",
       "    <tr>\n",
       "      <th>B</th>\n",
       "      <td>3000.0</td>\n",
       "      <td>2192.081391</td>\n",
       "      <td>1445.510325</td>\n",
       "      <td>258.926386</td>\n",
       "      <td>1187.826706</td>\n",
       "      <td>1825.230724</td>\n",
       "      <td>2777.120167</td>\n",
       "      <td>11105.976532</td>\n",
       "    </tr>\n",
       "  </tbody>\n",
       "</table>\n",
       "</div>"
      ],
      "text/plain": [
       "               count         mean          std         min          25%  \\\n",
       "TARGET_GROUP                                                              \n",
       "A             3000.0  2211.232370  1470.728728  214.662380  1229.930364   \n",
       "B             3000.0  2192.081391  1445.510325  258.926386  1187.826706   \n",
       "\n",
       "                      50%          75%           max  \n",
       "TARGET_GROUP                                          \n",
       "A             1843.946044  2777.419598  15821.637450  \n",
       "B             1825.230724  2777.120167  11105.976532  "
      ]
     },
     "execution_count": 71,
     "metadata": {},
     "output_type": "execute_result"
    }
   ],
   "source": [
    "revenue_a, revenue_b = generator_a.get_sample(size=SIZE), generator_b.get_sample(size=SIZE)\n",
    "retro_data_ctr = ctr_gen.get_sample(update_size=len(revenue_a))\n",
    "df_control = pd.DataFrame({'RTO': revenue_a,\n",
    "                           'IS_VISIT': retro_data_ctr[0]})\n",
    "df_experiment = pd.DataFrame({'RTO': revenue_b,\n",
    "                              'IS_VISIT': retro_data_ctr[1]})\n",
    "df_control['TARGET_GROUP'] = 'A'\n",
    "df_experiment['TARGET_GROUP'] = 'B'\n",
    "df = pd.concat([df_control, \n",
    "                df_experiment])\n",
    "df.groupby('TARGET_GROUP')['RTO'].describe()"
   ]
  },
  {
   "cell_type": "code",
   "execution_count": 72,
   "id": "410f465f",
   "metadata": {},
   "outputs": [
    {
     "data": {
      "text/html": [
       "<div>\n",
       "<style scoped>\n",
       "    .dataframe tbody tr th:only-of-type {\n",
       "        vertical-align: middle;\n",
       "    }\n",
       "\n",
       "    .dataframe tbody tr th {\n",
       "        vertical-align: top;\n",
       "    }\n",
       "\n",
       "    .dataframe thead th {\n",
       "        text-align: right;\n",
       "    }\n",
       "</style>\n",
       "<table border=\"1\" class=\"dataframe\">\n",
       "  <thead>\n",
       "    <tr style=\"text-align: right;\">\n",
       "      <th></th>\n",
       "      <th>count</th>\n",
       "      <th>mean</th>\n",
       "      <th>std</th>\n",
       "      <th>min</th>\n",
       "      <th>25%</th>\n",
       "      <th>50%</th>\n",
       "      <th>75%</th>\n",
       "      <th>max</th>\n",
       "    </tr>\n",
       "    <tr>\n",
       "      <th>TARGET_GROUP</th>\n",
       "      <th></th>\n",
       "      <th></th>\n",
       "      <th></th>\n",
       "      <th></th>\n",
       "      <th></th>\n",
       "      <th></th>\n",
       "      <th></th>\n",
       "      <th></th>\n",
       "    </tr>\n",
       "  </thead>\n",
       "  <tbody>\n",
       "    <tr>\n",
       "      <th>A</th>\n",
       "      <td>3000.0</td>\n",
       "      <td>0.203</td>\n",
       "      <td>0.402300</td>\n",
       "      <td>0.0</td>\n",
       "      <td>0.0</td>\n",
       "      <td>0.0</td>\n",
       "      <td>0.0</td>\n",
       "      <td>1.0</td>\n",
       "    </tr>\n",
       "    <tr>\n",
       "      <th>B</th>\n",
       "      <td>3000.0</td>\n",
       "      <td>0.189</td>\n",
       "      <td>0.391574</td>\n",
       "      <td>0.0</td>\n",
       "      <td>0.0</td>\n",
       "      <td>0.0</td>\n",
       "      <td>0.0</td>\n",
       "      <td>1.0</td>\n",
       "    </tr>\n",
       "  </tbody>\n",
       "</table>\n",
       "</div>"
      ],
      "text/plain": [
       "               count   mean       std  min  25%  50%  75%  max\n",
       "TARGET_GROUP                                                  \n",
       "A             3000.0  0.203  0.402300  0.0  0.0  0.0  0.0  1.0\n",
       "B             3000.0  0.189  0.391574  0.0  0.0  0.0  0.0  1.0"
      ]
     },
     "execution_count": 72,
     "metadata": {},
     "output_type": "execute_result"
    }
   ],
   "source": [
    "df.groupby('TARGET_GROUP')['IS_VISIT'].describe()"
   ]
  },
  {
   "cell_type": "markdown",
   "id": "64f37650",
   "metadata": {},
   "source": [
    "### Standard AB"
   ]
  },
  {
   "cell_type": "code",
   "execution_count": 73,
   "id": "37aa625d",
   "metadata": {},
   "outputs": [
    {
     "data": {
      "text/plain": [
       "0.6110095583422286"
      ]
     },
     "execution_count": 73,
     "metadata": {},
     "output_type": "execute_result"
    }
   ],
   "source": [
    "a=df[df['TARGET_GROUP']=='A']['RTO'].values\n",
    "b=df[df['TARGET_GROUP']=='B']['RTO'].values\n",
    "\n",
    "ttest_ind(a=a, \n",
    "          b=b, \n",
    "          equal_var=True, alternative='two-sided')[1]"
   ]
  },
  {
   "cell_type": "markdown",
   "id": "a5d38a94",
   "metadata": {},
   "source": [
    "### Bayesian AB"
   ]
  },
  {
   "cell_type": "code",
   "execution_count": 74,
   "id": "c4b9056e",
   "metadata": {},
   "outputs": [
    {
     "data": {
      "text/plain": [
       "{'A': 0.6593, 'B': 0.3407}"
      ]
     },
     "execution_count": 74,
     "metadata": {},
     "output_type": "execute_result"
    }
   ],
   "source": [
    "rev_test = DeltaLognormalDataTest()\n",
    "rev_test.add_variant_data(\"A\", a)\n",
    "rev_test.add_variant_data(\"B\", b)\n",
    "rev_test.probabs_of_being_best()"
   ]
  },
  {
   "cell_type": "code",
   "execution_count": null,
   "id": "3c698cfb",
   "metadata": {},
   "outputs": [],
   "source": []
  }
 ],
 "metadata": {
  "kernelspec": {
   "display_name": "Python 3",
   "language": "python",
   "name": "python3"
  },
  "language_info": {
   "codemirror_mode": {
    "name": "ipython",
    "version": 3
   },
   "file_extension": ".py",
   "mimetype": "text/x-python",
   "name": "python",
   "nbconvert_exporter": "python",
   "pygments_lexer": "ipython3",
   "version": "3.8.8"
  }
 },
 "nbformat": 4,
 "nbformat_minor": 5
}
