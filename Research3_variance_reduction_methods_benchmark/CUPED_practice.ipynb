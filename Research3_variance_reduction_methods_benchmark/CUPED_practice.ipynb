{
 "cells": [
  {
   "cell_type": "code",
   "execution_count": 1,
   "id": "382aaeb0",
   "metadata": {},
   "outputs": [],
   "source": [
    "import numpy as np\n",
    "import pandas as pd\n",
    "import matplotlib.pyplot as plt\n",
    "from scipy import stats\n",
    "\n",
    "def generate_data(sample_size, corr, mean=2000, sigma=300):\n",
    "    \"\"\"Генерируем коррелированные данные исходной метрики и ковариаты.\n",
    "    \n",
    "    sample_size - размер выборки\n",
    "    corr - корреляция исходной метрики с ковариатой\n",
    "    mean - среднее значение исходной метрики\n",
    "    sigma - стандартное отклонение исходной метрики\n",
    "\n",
    "    return - pd.DataFrame со столбцами ['metric', 'covariate'],\n",
    "        'metric' - значения исходной метрики,\n",
    "        'covariate' - значения ковариаты.\n",
    "    \"\"\"\n",
    "    means = np.array([mean, mean])\n",
    "    cov = sigma ** 2 * np.array([[1, corr], [corr, 1]])\n",
    "    data = np.random.multivariate_normal(means, cov, sample_size).astype(int)\n",
    "    df = pd.DataFrame({'metric': data[:, 0], 'covariate': data[:, 1]})\n",
    "    return df\n",
    "\n",
    "def calculate_theta(metrics, covariates):\n",
    "    \"\"\"Вычисляем Theta.\n",
    "\n",
    "    metrics - значения исходной метрики\n",
    "    covariates - значения ковариаты\n",
    "\n",
    "    return - theta.\n",
    "    \"\"\"\n",
    "    covariance = np.cov(covariates, metrics)[0, 1]\n",
    "    variance = covariates.var()\n",
    "    theta = covariance / variance\n",
    "    return theta\n",
    "\n",
    "def check_ttest(df_control, df_pilot):\n",
    "    \"\"\"Проверяет гипотезу о равенстве средних с помощью t-test.\n",
    "\n",
    "    return - pvalue.\n",
    "    \"\"\"\n",
    "    values_control = df_control['metric'].values\n",
    "    values_pilot = df_pilot['metric'].values\n",
    "    _, pvalue = stats.ttest_ind(values_control, values_pilot)\n",
    "    return pvalue\n",
    "\n",
    "def check_cuped(df_control, df_pilot, df_theta):\n",
    "    \"\"\"Проверяет гипотезу о равенстве средних с использованием CUPED.\n",
    "    \n",
    "    df_control и df_pilot - данные контрольной и экспериментальной групп\n",
    "    df_theta - данные для оценки theta\n",
    "\n",
    "    return - pvalue.\n",
    "    \"\"\"\n",
    "    theta = calculate_theta(df_theta['metric'], df_theta['covariate'])\n",
    "    metric_cuped_control = df_control['metric'] - theta * df_control['covariate']\n",
    "    metric_cuped_pilot = df_pilot['metric'] - theta * df_pilot['covariate']\n",
    "    lift = (metric_cuped_pilot.mean()-metric_cuped_control.mean())/metric_cuped_control.mean()\n",
    "    print(lift)\n",
    "    _, pvalue = stats.ttest_ind(metric_cuped_control, metric_cuped_pilot)\n",
    "    return pvalue"
   ]
  },
  {
   "cell_type": "markdown",
   "id": "76b1ce62",
   "metadata": {},
   "source": [
    "### Вариант 1\n",
    "\n",
    "1. Используем формулу Y_cuped = Y - (X - AVG(X)) * COV(Y, X)/VAR(X)\n",
    "2. Считаем theta на всем наборе данных"
   ]
  },
  {
   "cell_type": "code",
   "execution_count": 2,
   "id": "d063ea30",
   "metadata": {
    "scrolled": true
   },
   "outputs": [],
   "source": [
    "sample_size = 100000      # размер групп\n",
    "corr = 0.6             # корреляция ковариаты с целевой метрикой\n",
    "effect = 0             # размер эффекта\n",
    "\n",
    "pvalues = []\n",
    "\n",
    "for i in range(1000):\n",
    "    df_control = generate_data(sample_size, corr)\n",
    "    df_pilot = generate_data(sample_size, corr)\n",
    "    df_pilot['metric'] += effect\n",
    "    df_theta = pd.concat([df_control, df_pilot])\n",
    "    theta = calculate_theta(df_theta['metric'], df_theta['covariate'])\n",
    "    metric_cuped_control = df_control['metric'] - theta * (df_control['covariate']-df_control['covariate'].mean())\n",
    "    metric_cuped_pilot = df_pilot['metric'] - theta * (df_pilot['covariate']-df_pilot['covariate'].mean())\n",
    "    lift_cuped = (metric_cuped_pilot.mean()-metric_cuped_control.mean())/metric_cuped_control.mean()\n",
    "    lift_orig = (df_pilot['metric'].mean() - df_control['metric'].mean())/df_control['metric'].mean()\n",
    "    # variance reduction\n",
    "    vr_c = (df_control[\"metric\"].std()**2-metric_cuped_control.std()**2)/df_control[\"metric\"].std()**2\n",
    "    vr_t = (df_pilot[\"metric\"].std()**2-metric_cuped_pilot.std()**2)/df_pilot[\"metric\"].std()**2\n",
    "    #print(f\"Lift (original): {lift_orig}, Lift (CUPED): {lift_cuped}\")\n",
    "    #print(f\"\"\"Variance reduction (control): {vr_c}, \n",
    "    #          Variance reduction (test): {vr_t}\"\"\")\n",
    "\n",
    "    _, pvalue_orig = stats.ttest_ind(df_control['metric'], df_pilot['metric'])\n",
    "    _, pvalue_cuped = stats.ttest_ind(metric_cuped_control, metric_cuped_pilot)\n",
    "\n",
    "    #print(f\"pvalue (original): {pvalue_orig}, pvalue (CUPED): {pvalue_cuped}\")\n",
    "    pvalues.append([pvalue_orig, pvalue_cuped, lift_orig, lift_cuped])"
   ]
  },
  {
   "cell_type": "code",
   "execution_count": 3,
   "id": "a993371b",
   "metadata": {},
   "outputs": [
    {
     "name": "stdout",
     "output_type": "stream",
     "text": [
      "I type error (original): 0.054, \n",
      "I type error (CUPED): 0.115\n",
      "Max lift difference: 1.4417635845709819e-12\n",
      "Min lift difference: -7.096230748198165e-13\n"
     ]
    }
   ],
   "source": [
    "i_type_error_orig = sum([1 for i in pvalues if i[0]<0.05])/len(pvalues)\n",
    "i_type_error_cuped = sum([1 for i in pvalues if i[1]<0.05])/len(pvalues)\n",
    "print(f\"\"\"I type error (original): {i_type_error_orig}, \n",
    "I type error (CUPED): {i_type_error_cuped}\"\"\")\n",
    "print(f\"Max lift difference: {max([(i[2]-i[3]) for i in pvalues])}\")\n",
    "print(f\"Min lift difference: {min([(i[2]-i[3]) for i in pvalues])}\")"
   ]
  },
  {
   "cell_type": "markdown",
   "id": "8fbb582f",
   "metadata": {},
   "source": [
    "### Вариант 2\n",
    "\n",
    "1. Используем формулу Y_cuped = Y - X * COV(Y, X)/VAR(X)\n",
    "2. Считаем theta на всем наборе данных"
   ]
  },
  {
   "cell_type": "code",
   "execution_count": 4,
   "id": "5e44feec",
   "metadata": {},
   "outputs": [],
   "source": [
    "pvalues = []\n",
    "\n",
    "for i in range(1000):\n",
    "    df_control = generate_data(sample_size, corr)\n",
    "    df_pilot = generate_data(sample_size, corr)\n",
    "    df_pilot['metric'] += effect\n",
    "    df_theta = pd.concat([df_control, df_pilot])\n",
    "    theta = calculate_theta(df_theta['metric'], df_theta['covariate'])\n",
    "    metric_cuped_control = df_control['metric'] - theta * (df_control['covariate'])\n",
    "    metric_cuped_pilot = df_pilot['metric'] - theta * (df_pilot['covariate'])\n",
    "    lift_cuped = (metric_cuped_pilot.mean()-metric_cuped_control.mean())/metric_cuped_control.mean()\n",
    "    lift_orig = (df_pilot['metric'].mean() - df_control['metric'].mean())/df_control['metric'].mean()\n",
    "    # variance reduction\n",
    "    vr_c = (df_control[\"metric\"].std()**2-metric_cuped_control.std()**2)/df_control[\"metric\"].std()**2\n",
    "    vr_t = (df_pilot[\"metric\"].std()**2-metric_cuped_pilot.std()**2)/df_pilot[\"metric\"].std()**2\n",
    "    #print(f\"Lift (original): {lift_orig}, Lift (CUPED): {lift_cuped}\")\n",
    "    #print(f\"\"\"Variance reduction (control): {vr_c}, \n",
    "    #          Variance reduction (test): {vr_t}\"\"\")\n",
    "\n",
    "    _, pvalue_orig = stats.ttest_ind(df_control['metric'], df_pilot['metric'])\n",
    "    _, pvalue_cuped = stats.ttest_ind(metric_cuped_control, metric_cuped_pilot)\n",
    "\n",
    "    #print(f\"pvalue (original): {pvalue_orig}, pvalue (CUPED): {pvalue_cuped}\")\n",
    "    pvalues.append([pvalue_orig, pvalue_cuped, lift_orig, lift_cuped])"
   ]
  },
  {
   "cell_type": "code",
   "execution_count": 5,
   "id": "dbf65254",
   "metadata": {},
   "outputs": [
    {
     "name": "stdout",
     "output_type": "stream",
     "text": [
      "I type error (original): 0.054, \n",
      "I type error (CUPED): 0.058\n",
      "Max lift difference: 0.0027958929785924817\n",
      "Min lift difference: -0.0031904183082200814\n"
     ]
    }
   ],
   "source": [
    "i_type_error_orig = sum([1 for i in pvalues if i[0]<0.05])/len(pvalues)\n",
    "i_type_error_cuped = sum([1 for i in pvalues if i[1]<0.05])/len(pvalues)\n",
    "print(f\"\"\"I type error (original): {i_type_error_orig}, \n",
    "I type error (CUPED): {i_type_error_cuped}\"\"\")\n",
    "print(f\"Max lift difference: {max([(i[2]-i[3]) for i in pvalues])}\")\n",
    "print(f\"Min lift difference: {min([(i[2]-i[3]) for i in pvalues])}\")"
   ]
  },
  {
   "cell_type": "markdown",
   "id": "e0c9cd50",
   "metadata": {},
   "source": [
    "### Вариант 3\n",
    "\n",
    "1. Используем формулу Y_cuped = Y - X * COV(Y, X)/VAR(X)\n",
    "2. Считаем theta на каждой группе отдельно"
   ]
  },
  {
   "cell_type": "code",
   "execution_count": 6,
   "id": "420ef97b",
   "metadata": {},
   "outputs": [],
   "source": [
    "pvalues = []\n",
    "\n",
    "for i in range(1000):\n",
    "    df_control = generate_data(sample_size, corr)\n",
    "    df_pilot = generate_data(sample_size, corr)\n",
    "    df_pilot['metric'] += effect\n",
    "    df_theta = pd.concat([df_control, df_pilot])\n",
    "    theta_control = calculate_theta(df_control['metric'], df_control['covariate'])\n",
    "    theta_pilot = calculate_theta(df_pilot['metric'], df_pilot['covariate'])\n",
    "    metric_cuped_control = df_control['metric'] - theta_control * (df_control['covariate']-df_control['covariate'].mean())\n",
    "    metric_cuped_pilot = df_pilot['metric'] - theta_pilot * (df_pilot['covariate']-df_pilot['covariate'].mean())\n",
    "    lift_cuped = (metric_cuped_pilot.mean()-metric_cuped_control.mean())/metric_cuped_control.mean()\n",
    "    lift_orig = (df_pilot['metric'].mean() - df_control['metric'].mean())/df_control['metric'].mean()\n",
    "    # variance reduction\n",
    "    vr_c = (df_control[\"metric\"].std()**2-metric_cuped_control.std()**2)/df_control[\"metric\"].std()**2\n",
    "    vr_t = (df_pilot[\"metric\"].std()**2-metric_cuped_pilot.std()**2)/df_pilot[\"metric\"].std()**2\n",
    "    #print(f\"Lift (original): {lift_orig}, Lift (CUPED): {lift_cuped}\")\n",
    "    #print(f\"\"\"Variance reduction (control): {vr_c}, \n",
    "    #          Variance reduction (test): {vr_t}\"\"\")\n",
    "\n",
    "    _, pvalue_orig = stats.ttest_ind(df_control['metric'], df_pilot['metric'])\n",
    "    _, pvalue_cuped = stats.ttest_ind(metric_cuped_control, metric_cuped_pilot)\n",
    "\n",
    "    #print(f\"pvalue (original): {pvalue_orig}, pvalue (CUPED): {pvalue_cuped}\")\n",
    "    pvalues.append([pvalue_orig, pvalue_cuped, lift_orig, lift_cuped])"
   ]
  },
  {
   "cell_type": "code",
   "execution_count": 7,
   "id": "a073fdbd",
   "metadata": {},
   "outputs": [
    {
     "name": "stdout",
     "output_type": "stream",
     "text": [
      "I type error (original): 0.047, \n",
      "I type error (CUPED): 0.115\n",
      "Max lift difference: 1.74691597992771e-12\n",
      "Min lift difference: -3.9090887644921413e-13\n"
     ]
    }
   ],
   "source": [
    "i_type_error_orig = sum([1 for i in pvalues if i[0]<0.05])/len(pvalues)\n",
    "i_type_error_cuped = sum([1 for i in pvalues if i[1]<0.05])/len(pvalues)\n",
    "print(f\"\"\"I type error (original): {i_type_error_orig}, \n",
    "I type error (CUPED): {i_type_error_cuped}\"\"\")\n",
    "print(f\"Max lift difference: {max([(i[2]-i[3]) for i in pvalues])}\")\n",
    "print(f\"Min lift difference: {min([(i[2]-i[3]) for i in pvalues])}\")"
   ]
  },
  {
   "cell_type": "code",
   "execution_count": null,
   "id": "b0f4837b",
   "metadata": {},
   "outputs": [],
   "source": []
  }
 ],
 "metadata": {
  "kernelspec": {
   "display_name": "Python 3",
   "language": "python",
   "name": "python3"
  },
  "language_info": {
   "codemirror_mode": {
    "name": "ipython",
    "version": 3
   },
   "file_extension": ".py",
   "mimetype": "text/x-python",
   "name": "python",
   "nbconvert_exporter": "python",
   "pygments_lexer": "ipython3",
   "version": "3.8.8"
  }
 },
 "nbformat": 4,
 "nbformat_minor": 5
}
